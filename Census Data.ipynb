{
 "cells": [
  {
   "cell_type": "code",
   "execution_count": 2,
   "metadata": {},
   "outputs": [
    {
     "name": "stdout",
     "output_type": "stream",
     "text": [
      "Requirement already satisfied: censusdata in c:\\users\\edaha\\anaconda3\\lib\\site-packages (1.13)\n",
      "Requirement already satisfied: requests in c:\\users\\edaha\\anaconda3\\lib\\site-packages (from censusdata) (2.22.0)\n",
      "Requirement already satisfied: pandas in c:\\users\\edaha\\anaconda3\\lib\\site-packages (from censusdata) (1.0.1)\n",
      "Requirement already satisfied: certifi>=2017.4.17 in c:\\users\\edaha\\anaconda3\\lib\\site-packages (from requests->censusdata) (2019.11.28)\n",
      "Requirement already satisfied: chardet<3.1.0,>=3.0.2 in c:\\users\\edaha\\anaconda3\\lib\\site-packages (from requests->censusdata) (3.0.4)\n",
      "Requirement already satisfied: urllib3!=1.25.0,!=1.25.1,<1.26,>=1.21.1 in c:\\users\\edaha\\anaconda3\\lib\\site-packages (from requests->censusdata) (1.25.8)\n",
      "Requirement already satisfied: idna<2.9,>=2.5 in c:\\users\\edaha\\anaconda3\\lib\\site-packages (from requests->censusdata) (2.8)\n",
      "Requirement already satisfied: pytz>=2017.2 in c:\\users\\edaha\\anaconda3\\lib\\site-packages (from pandas->censusdata) (2019.3)\n",
      "Requirement already satisfied: python-dateutil>=2.6.1 in c:\\users\\edaha\\anaconda3\\lib\\site-packages (from pandas->censusdata) (2.8.1)\n",
      "Requirement already satisfied: numpy>=1.13.3 in c:\\users\\edaha\\anaconda3\\lib\\site-packages (from pandas->censusdata) (1.18.1)\n",
      "Requirement already satisfied: six>=1.5 in c:\\users\\edaha\\anaconda3\\lib\\site-packages (from python-dateutil>=2.6.1->pandas->censusdata) (1.14.0)\n",
      "Note: you may need to restart the kernel to use updated packages.\n"
     ]
    }
   ],
   "source": [
    "pip install censusdata"
   ]
  },
  {
   "cell_type": "code",
   "execution_count": 7,
   "metadata": {},
   "outputs": [],
   "source": [
    "import pandas as pd\n",
    "import censusdata\n",
    "sample = censusdata.search('acs5', 2019, 'B01003', 'B01003_001E')"
   ]
  },
  {
   "cell_type": "code",
   "execution_count": 8,
   "metadata": {},
   "outputs": [
    {
     "name": "stdout",
     "output_type": "stream",
     "text": [
      "0\n"
     ]
    }
   ],
   "source": [
    "print(len(sample))"
   ]
  },
  {
   "cell_type": "code",
   "execution_count": 9,
   "metadata": {},
   "outputs": [
    {
     "ename": "IndexError",
     "evalue": "list index out of range",
     "output_type": "error",
     "traceback": [
      "\u001b[1;31m---------------------------------------------------------------------------\u001b[0m",
      "\u001b[1;31mIndexError\u001b[0m                                Traceback (most recent call last)",
      "\u001b[1;32m<ipython-input-9-12ef466cea6a>\u001b[0m in \u001b[0;36m<module>\u001b[1;34m\u001b[0m\n\u001b[1;32m----> 1\u001b[1;33m \u001b[0mprint\u001b[0m\u001b[1;33m(\u001b[0m\u001b[0msample\u001b[0m\u001b[1;33m[\u001b[0m\u001b[1;36m0\u001b[0m\u001b[1;33m]\u001b[0m\u001b[1;33m)\u001b[0m\u001b[1;33m\u001b[0m\u001b[1;33m\u001b[0m\u001b[0m\n\u001b[0m",
      "\u001b[1;31mIndexError\u001b[0m: list index out of range"
     ]
    }
   ],
   "source": [
    "print(sample[0])"
   ]
  },
  {
   "cell_type": "code",
   "execution_count": 10,
   "metadata": {},
   "outputs": [
    {
     "ename": "IndexError",
     "evalue": "list index out of range",
     "output_type": "error",
     "traceback": [
      "\u001b[1;31m---------------------------------------------------------------------------\u001b[0m",
      "\u001b[1;31mIndexError\u001b[0m                                Traceback (most recent call last)",
      "\u001b[1;32m<ipython-input-10-32c31038decd>\u001b[0m in \u001b[0;36m<module>\u001b[1;34m\u001b[0m\n\u001b[1;32m----> 1\u001b[1;33m \u001b[0mprint\u001b[0m\u001b[1;33m(\u001b[0m\u001b[0msample\u001b[0m\u001b[1;33m[\u001b[0m\u001b[1;36m2\u001b[0m\u001b[1;33m]\u001b[0m\u001b[1;33m)\u001b[0m\u001b[1;33m\u001b[0m\u001b[1;33m\u001b[0m\u001b[0m\n\u001b[0m",
      "\u001b[1;31mIndexError\u001b[0m: list index out of range"
     ]
    }
   ],
   "source": [
    "print(sample[2])\n"
   ]
  },
  {
   "cell_type": "code",
   "execution_count": 7,
   "metadata": {},
   "outputs": [
    {
     "name": "stdout",
     "output_type": "stream",
     "text": [
      "Variable     | Table                          | Label                                                    | Type \n",
      "-------------------------------------------------------------------------------------------------------------------\n",
      "B23025_001E  | B23025.  Employment Status for | Total:                                                   | int  \n",
      "B23025_002E  | B23025.  Employment Status for | In labor force:                                          | int  \n",
      "B23025_003E  | B23025.  Employment Status for | !! In labor force: Civilian labor force:                 | int  \n",
      "B23025_004E  | B23025.  Employment Status for | !! !! In labor force: Civilian labor force: Employed     | int  \n",
      "B23025_005E  | B23025.  Employment Status for | !! !! In labor force: Civilian labor force: Unemployed   | int  \n",
      "B23025_006E  | B23025.  Employment Status for | !! In labor force: Armed Forces                          | int  \n",
      "B23025_007E  | B23025.  Employment Status for | Not in labor force                                       | int  \n",
      "-------------------------------------------------------------------------------------------------------------------\n"
     ]
    }
   ],
   "source": [
    "censusdata.printtable(censusdata.censustable('acs5', 2015, 'B23025'))"
   ]
  },
  {
   "cell_type": "code",
   "execution_count": 11,
   "metadata": {},
   "outputs": [
    {
     "name": "stdout",
     "output_type": "stream",
     "text": [
      "{'Alabama': censusgeo((('state', '01'),)), 'Alaska': censusgeo((('state', '02'),)), 'Arizona': censusgeo((('state', '04'),)), 'Arkansas': censusgeo((('state', '05'),)), 'California': censusgeo((('state', '06'),)), 'Colorado': censusgeo((('state', '08'),)), 'Delaware': censusgeo((('state', '10'),)), 'District of Columbia': censusgeo((('state', '11'),)), 'Connecticut': censusgeo((('state', '09'),)), 'Florida': censusgeo((('state', '12'),)), 'Georgia': censusgeo((('state', '13'),)), 'Idaho': censusgeo((('state', '16'),)), 'Hawaii': censusgeo((('state', '15'),)), 'Illinois': censusgeo((('state', '17'),)), 'Indiana': censusgeo((('state', '18'),)), 'Iowa': censusgeo((('state', '19'),)), 'Kansas': censusgeo((('state', '20'),)), 'Kentucky': censusgeo((('state', '21'),)), 'Louisiana': censusgeo((('state', '22'),)), 'Maine': censusgeo((('state', '23'),)), 'Maryland': censusgeo((('state', '24'),)), 'Massachusetts': censusgeo((('state', '25'),)), 'Michigan': censusgeo((('state', '26'),)), 'Minnesota': censusgeo((('state', '27'),)), 'Mississippi': censusgeo((('state', '28'),)), 'Missouri': censusgeo((('state', '29'),)), 'Montana': censusgeo((('state', '30'),)), 'Nebraska': censusgeo((('state', '31'),)), 'Nevada': censusgeo((('state', '32'),)), 'New Hampshire': censusgeo((('state', '33'),)), 'New Jersey': censusgeo((('state', '34'),)), 'New Mexico': censusgeo((('state', '35'),)), 'New York': censusgeo((('state', '36'),)), 'North Carolina': censusgeo((('state', '37'),)), 'North Dakota': censusgeo((('state', '38'),)), 'Ohio': censusgeo((('state', '39'),)), 'Oklahoma': censusgeo((('state', '40'),)), 'Oregon': censusgeo((('state', '41'),)), 'Pennsylvania': censusgeo((('state', '42'),)), 'Rhode Island': censusgeo((('state', '44'),)), 'South Carolina': censusgeo((('state', '45'),)), 'South Dakota': censusgeo((('state', '46'),)), 'Tennessee': censusgeo((('state', '47'),)), 'Texas': censusgeo((('state', '48'),)), 'Vermont': censusgeo((('state', '50'),)), 'Utah': censusgeo((('state', '49'),)), 'Virginia': censusgeo((('state', '51'),)), 'Washington': censusgeo((('state', '53'),)), 'West Virginia': censusgeo((('state', '54'),)), 'Wisconsin': censusgeo((('state', '55'),)), 'Wyoming': censusgeo((('state', '56'),)), 'Puerto Rico': censusgeo((('state', '72'),))}\n"
     ]
    }
   ],
   "source": [
    "states = censusdata.geographies(censusdata.censusgeo([('state', '*')]), 'acs5', 2019)\n",
    "print(states)"
   ]
  },
  {
   "cell_type": "code",
   "execution_count": 17,
   "metadata": {
    "scrolled": true
   },
   "outputs": [
    {
     "name": "stdout",
     "output_type": "stream",
     "text": [
      "{'Schoharie County, New York': censusgeo((('state', '36'), ('county', '095'))), 'Fulton County, New York': censusgeo((('state', '36'), ('county', '035'))), 'Rensselaer County, New York': censusgeo((('state', '36'), ('county', '083'))), 'Franklin County, New York': censusgeo((('state', '36'), ('county', '033'))), 'Queens County, New York': censusgeo((('state', '36'), ('county', '081'))), 'Washington County, New York': censusgeo((('state', '36'), ('county', '115'))), 'New York County, New York': censusgeo((('state', '36'), ('county', '061'))), 'Cayuga County, New York': censusgeo((('state', '36'), ('county', '011'))), 'Rockland County, New York': censusgeo((('state', '36'), ('county', '087'))), 'Niagara County, New York': censusgeo((('state', '36'), ('county', '063'))), 'Essex County, New York': censusgeo((('state', '36'), ('county', '031'))), 'Nassau County, New York': censusgeo((('state', '36'), ('county', '059'))), 'Schuyler County, New York': censusgeo((('state', '36'), ('county', '097'))), 'Chenango County, New York': censusgeo((('state', '36'), ('county', '017'))), 'Jefferson County, New York': censusgeo((('state', '36'), ('county', '045'))), 'Suffolk County, New York': censusgeo((('state', '36'), ('county', '103'))), 'Wyoming County, New York': censusgeo((('state', '36'), ('county', '121'))), 'Oswego County, New York': censusgeo((('state', '36'), ('county', '075'))), 'Wayne County, New York': censusgeo((('state', '36'), ('county', '117'))), 'Broome County, New York': censusgeo((('state', '36'), ('county', '007'))), 'Erie County, New York': censusgeo((('state', '36'), ('county', '029'))), 'Sullivan County, New York': censusgeo((('state', '36'), ('county', '105'))), 'Orange County, New York': censusgeo((('state', '36'), ('county', '071'))), 'Bronx County, New York': censusgeo((('state', '36'), ('county', '005'))), 'Onondaga County, New York': censusgeo((('state', '36'), ('county', '067'))), 'Clinton County, New York': censusgeo((('state', '36'), ('county', '019'))), 'Seneca County, New York': censusgeo((('state', '36'), ('county', '099'))), 'Putnam County, New York': censusgeo((('state', '36'), ('county', '079'))), 'Herkimer County, New York': censusgeo((('state', '36'), ('county', '043'))), 'Ontario County, New York': censusgeo((('state', '36'), ('county', '069'))), 'Steuben County, New York': censusgeo((('state', '36'), ('county', '101'))), 'Hamilton County, New York': censusgeo((('state', '36'), ('county', '041'))), 'Chautauqua County, New York': censusgeo((('state', '36'), ('county', '013'))), 'Kings County, New York': censusgeo((('state', '36'), ('county', '047'))), 'Tioga County, New York': censusgeo((('state', '36'), ('county', '107'))), 'Orleans County, New York': censusgeo((('state', '36'), ('county', '073'))), 'Saratoga County, New York': censusgeo((('state', '36'), ('county', '091'))), 'Columbia County, New York': censusgeo((('state', '36'), ('county', '021'))), 'Lewis County, New York': censusgeo((('state', '36'), ('county', '049'))), 'Westchester County, New York': censusgeo((('state', '36'), ('county', '119'))), 'Delaware County, New York': censusgeo((('state', '36'), ('county', '025'))), 'Montgomery County, New York': censusgeo((('state', '36'), ('county', '057'))), 'Richmond County, New York': censusgeo((('state', '36'), ('county', '085'))), 'St. Lawrence County, New York': censusgeo((('state', '36'), ('county', '089'))), 'Tompkins County, New York': censusgeo((('state', '36'), ('county', '109'))), 'Warren County, New York': censusgeo((('state', '36'), ('county', '113'))), 'Cortland County, New York': censusgeo((('state', '36'), ('county', '023'))), 'Dutchess County, New York': censusgeo((('state', '36'), ('county', '027'))), 'Monroe County, New York': censusgeo((('state', '36'), ('county', '055'))), 'Oneida County, New York': censusgeo((('state', '36'), ('county', '065'))), 'Ulster County, New York': censusgeo((('state', '36'), ('county', '111'))), 'Chemung County, New York': censusgeo((('state', '36'), ('county', '015'))), 'Livingston County, New York': censusgeo((('state', '36'), ('county', '051'))), 'Otsego County, New York': censusgeo((('state', '36'), ('county', '077'))), 'Greene County, New York': censusgeo((('state', '36'), ('county', '039'))), 'Albany County, New York': censusgeo((('state', '36'), ('county', '001'))), 'Allegany County, New York': censusgeo((('state', '36'), ('county', '003'))), 'Cattaraugus County, New York': censusgeo((('state', '36'), ('county', '009'))), 'Madison County, New York': censusgeo((('state', '36'), ('county', '053'))), 'Schenectady County, New York': censusgeo((('state', '36'), ('county', '093'))), 'Genesee County, New York': censusgeo((('state', '36'), ('county', '037'))), 'Yates County, New York': censusgeo((('state', '36'), ('county', '123')))}\n"
     ]
    }
   ],
   "source": [
    "counties = censusdata.geographies(censusdata.censusgeo([('state', '36'), ('county', '*')]), 'acs5', 2019)\n",
    "print(counties)"
   ]
  },
  {
   "cell_type": "code",
   "execution_count": 12,
   "metadata": {},
   "outputs": [
    {
     "ename": "ValueError",
     "evalue": "Unexpected response (URL: https://api.census.gov/data/2019/acs/acs5?get=NAME,B23025_001E,B23025_002E,B23025_003E,B23025_004E,B23025_005E,B23025_006E,B23025_007E&for=block+group:*&in=state:*+county:*): error: wildcard not allowed for 'state' in geography heirarchy ",
     "output_type": "error",
     "traceback": [
      "\u001b[1;31m---------------------------------------------------------------------------\u001b[0m",
      "\u001b[1;31mJSONDecodeError\u001b[0m                           Traceback (most recent call last)",
      "\u001b[1;32m~\\Anaconda3\\lib\\site-packages\\censusdata\\download.py\u001b[0m in \u001b[0;36m_download\u001b[1;34m(src, year, params, baseurl, endpt)\u001b[0m\n\u001b[0;32m     35\u001b[0m         \u001b[1;32mtry\u001b[0m\u001b[1;33m:\u001b[0m\u001b[1;33m\u001b[0m\u001b[1;33m\u001b[0m\u001b[0m\n\u001b[1;32m---> 36\u001b[1;33m                 \u001b[0mdata\u001b[0m \u001b[1;33m=\u001b[0m \u001b[0mr\u001b[0m\u001b[1;33m.\u001b[0m\u001b[0mjson\u001b[0m\u001b[1;33m(\u001b[0m\u001b[1;33m)\u001b[0m\u001b[1;33m\u001b[0m\u001b[1;33m\u001b[0m\u001b[0m\n\u001b[0m\u001b[0;32m     37\u001b[0m         \u001b[1;32mexcept\u001b[0m\u001b[1;33m:\u001b[0m\u001b[1;33m\u001b[0m\u001b[1;33m\u001b[0m\u001b[0m\n",
      "\u001b[1;32m~\\Anaconda3\\lib\\site-packages\\requests\\models.py\u001b[0m in \u001b[0;36mjson\u001b[1;34m(self, **kwargs)\u001b[0m\n\u001b[0;32m    896\u001b[0m                     \u001b[1;32mpass\u001b[0m\u001b[1;33m\u001b[0m\u001b[1;33m\u001b[0m\u001b[0m\n\u001b[1;32m--> 897\u001b[1;33m         \u001b[1;32mreturn\u001b[0m \u001b[0mcomplexjson\u001b[0m\u001b[1;33m.\u001b[0m\u001b[0mloads\u001b[0m\u001b[1;33m(\u001b[0m\u001b[0mself\u001b[0m\u001b[1;33m.\u001b[0m\u001b[0mtext\u001b[0m\u001b[1;33m,\u001b[0m \u001b[1;33m**\u001b[0m\u001b[0mkwargs\u001b[0m\u001b[1;33m)\u001b[0m\u001b[1;33m\u001b[0m\u001b[1;33m\u001b[0m\u001b[0m\n\u001b[0m\u001b[0;32m    898\u001b[0m \u001b[1;33m\u001b[0m\u001b[0m\n",
      "\u001b[1;32m~\\Anaconda3\\lib\\json\\__init__.py\u001b[0m in \u001b[0;36mloads\u001b[1;34m(s, encoding, cls, object_hook, parse_float, parse_int, parse_constant, object_pairs_hook, **kw)\u001b[0m\n\u001b[0;32m    347\u001b[0m             parse_constant is None and object_pairs_hook is None and not kw):\n\u001b[1;32m--> 348\u001b[1;33m         \u001b[1;32mreturn\u001b[0m \u001b[0m_default_decoder\u001b[0m\u001b[1;33m.\u001b[0m\u001b[0mdecode\u001b[0m\u001b[1;33m(\u001b[0m\u001b[0ms\u001b[0m\u001b[1;33m)\u001b[0m\u001b[1;33m\u001b[0m\u001b[1;33m\u001b[0m\u001b[0m\n\u001b[0m\u001b[0;32m    349\u001b[0m     \u001b[1;32mif\u001b[0m \u001b[0mcls\u001b[0m \u001b[1;32mis\u001b[0m \u001b[1;32mNone\u001b[0m\u001b[1;33m:\u001b[0m\u001b[1;33m\u001b[0m\u001b[1;33m\u001b[0m\u001b[0m\n",
      "\u001b[1;32m~\\Anaconda3\\lib\\json\\decoder.py\u001b[0m in \u001b[0;36mdecode\u001b[1;34m(self, s, _w)\u001b[0m\n\u001b[0;32m    336\u001b[0m         \"\"\"\n\u001b[1;32m--> 337\u001b[1;33m         \u001b[0mobj\u001b[0m\u001b[1;33m,\u001b[0m \u001b[0mend\u001b[0m \u001b[1;33m=\u001b[0m \u001b[0mself\u001b[0m\u001b[1;33m.\u001b[0m\u001b[0mraw_decode\u001b[0m\u001b[1;33m(\u001b[0m\u001b[0ms\u001b[0m\u001b[1;33m,\u001b[0m \u001b[0midx\u001b[0m\u001b[1;33m=\u001b[0m\u001b[0m_w\u001b[0m\u001b[1;33m(\u001b[0m\u001b[0ms\u001b[0m\u001b[1;33m,\u001b[0m \u001b[1;36m0\u001b[0m\u001b[1;33m)\u001b[0m\u001b[1;33m.\u001b[0m\u001b[0mend\u001b[0m\u001b[1;33m(\u001b[0m\u001b[1;33m)\u001b[0m\u001b[1;33m)\u001b[0m\u001b[1;33m\u001b[0m\u001b[1;33m\u001b[0m\u001b[0m\n\u001b[0m\u001b[0;32m    338\u001b[0m         \u001b[0mend\u001b[0m \u001b[1;33m=\u001b[0m \u001b[0m_w\u001b[0m\u001b[1;33m(\u001b[0m\u001b[0ms\u001b[0m\u001b[1;33m,\u001b[0m \u001b[0mend\u001b[0m\u001b[1;33m)\u001b[0m\u001b[1;33m.\u001b[0m\u001b[0mend\u001b[0m\u001b[1;33m(\u001b[0m\u001b[1;33m)\u001b[0m\u001b[1;33m\u001b[0m\u001b[1;33m\u001b[0m\u001b[0m\n",
      "\u001b[1;32m~\\Anaconda3\\lib\\json\\decoder.py\u001b[0m in \u001b[0;36mraw_decode\u001b[1;34m(self, s, idx)\u001b[0m\n\u001b[0;32m    354\u001b[0m         \u001b[1;32mexcept\u001b[0m \u001b[0mStopIteration\u001b[0m \u001b[1;32mas\u001b[0m \u001b[0merr\u001b[0m\u001b[1;33m:\u001b[0m\u001b[1;33m\u001b[0m\u001b[1;33m\u001b[0m\u001b[0m\n\u001b[1;32m--> 355\u001b[1;33m             \u001b[1;32mraise\u001b[0m \u001b[0mJSONDecodeError\u001b[0m\u001b[1;33m(\u001b[0m\u001b[1;34m\"Expecting value\"\u001b[0m\u001b[1;33m,\u001b[0m \u001b[0ms\u001b[0m\u001b[1;33m,\u001b[0m \u001b[0merr\u001b[0m\u001b[1;33m.\u001b[0m\u001b[0mvalue\u001b[0m\u001b[1;33m)\u001b[0m \u001b[1;32mfrom\u001b[0m \u001b[1;32mNone\u001b[0m\u001b[1;33m\u001b[0m\u001b[1;33m\u001b[0m\u001b[0m\n\u001b[0m\u001b[0;32m    356\u001b[0m         \u001b[1;32mreturn\u001b[0m \u001b[0mobj\u001b[0m\u001b[1;33m,\u001b[0m \u001b[0mend\u001b[0m\u001b[1;33m\u001b[0m\u001b[1;33m\u001b[0m\u001b[0m\n",
      "\u001b[1;31mJSONDecodeError\u001b[0m: Expecting value: line 1 column 1 (char 0)",
      "\nDuring handling of the above exception, another exception occurred:\n",
      "\u001b[1;31mValueError\u001b[0m                                Traceback (most recent call last)",
      "\u001b[1;32m<ipython-input-12-dd91a58b9fb0>\u001b[0m in \u001b[0;36m<module>\u001b[1;34m\u001b[0m\n\u001b[0;32m      5\u001b[0m           ['B23025_001E', 'B23025_002E', 'B23025_003E',\n\u001b[0;32m      6\u001b[0m            \u001b[1;34m'B23025_004E'\u001b[0m\u001b[1;33m,\u001b[0m \u001b[1;34m'B23025_005E'\u001b[0m\u001b[1;33m,\u001b[0m\u001b[1;33m\u001b[0m\u001b[1;33m\u001b[0m\u001b[0m\n\u001b[1;32m----> 7\u001b[1;33m            'B23025_006E', 'B23025_007E'])\n\u001b[0m",
      "\u001b[1;32m~\\Anaconda3\\lib\\site-packages\\censusdata\\download.py\u001b[0m in \u001b[0;36mdownload\u001b[1;34m(src, year, geo, var, key, tabletype, endpt)\u001b[0m\n\u001b[0;32m    114\u001b[0m                 \u001b[0mparams\u001b[0m\u001b[1;33m.\u001b[0m\u001b[0mupdate\u001b[0m\u001b[1;33m(\u001b[0m\u001b[0mgeorequest\u001b[0m\u001b[1;33m)\u001b[0m\u001b[1;33m\u001b[0m\u001b[1;33m\u001b[0m\u001b[0m\n\u001b[0;32m    115\u001b[0m                 \u001b[1;32mif\u001b[0m \u001b[0mkey\u001b[0m \u001b[1;32mis\u001b[0m \u001b[1;32mnot\u001b[0m \u001b[1;32mNone\u001b[0m\u001b[1;33m:\u001b[0m \u001b[0mparams\u001b[0m\u001b[1;33m.\u001b[0m\u001b[0mupdate\u001b[0m\u001b[1;33m(\u001b[0m\u001b[1;33m{\u001b[0m\u001b[1;34m'key'\u001b[0m\u001b[1;33m:\u001b[0m \u001b[0mkey\u001b[0m\u001b[1;33m}\u001b[0m\u001b[1;33m)\u001b[0m\u001b[1;33m\u001b[0m\u001b[1;33m\u001b[0m\u001b[0m\n\u001b[1;32m--> 116\u001b[1;33m                 \u001b[0mdata\u001b[0m\u001b[1;33m.\u001b[0m\u001b[0mupdate\u001b[0m\u001b[1;33m(\u001b[0m\u001b[0m_download\u001b[0m\u001b[1;33m(\u001b[0m\u001b[0msrc\u001b[0m \u001b[1;33m+\u001b[0m \u001b[0mtabletype\u001b[0m\u001b[1;33m,\u001b[0m \u001b[0myear\u001b[0m\u001b[1;33m,\u001b[0m \u001b[0mparams\u001b[0m\u001b[1;33m,\u001b[0m \u001b[0mendpt\u001b[0m\u001b[1;33m=\u001b[0m\u001b[0mendpt\u001b[0m\u001b[1;33m)\u001b[0m\u001b[1;33m)\u001b[0m\u001b[1;33m\u001b[0m\u001b[1;33m\u001b[0m\u001b[0m\n\u001b[0m\u001b[0;32m    117\u001b[0m         \u001b[0mgeodata\u001b[0m \u001b[1;33m=\u001b[0m \u001b[0mdata\u001b[0m\u001b[1;33m.\u001b[0m\u001b[0mcopy\u001b[0m\u001b[1;33m(\u001b[0m\u001b[1;33m)\u001b[0m\u001b[1;33m\u001b[0m\u001b[1;33m\u001b[0m\u001b[0m\n\u001b[0;32m    118\u001b[0m         \u001b[1;32mfor\u001b[0m \u001b[0mkey\u001b[0m \u001b[1;32min\u001b[0m \u001b[0mlist\u001b[0m\u001b[1;33m(\u001b[0m\u001b[0mgeodata\u001b[0m\u001b[1;33m.\u001b[0m\u001b[0mkeys\u001b[0m\u001b[1;33m(\u001b[0m\u001b[1;33m)\u001b[0m\u001b[1;33m)\u001b[0m\u001b[1;33m:\u001b[0m\u001b[1;33m\u001b[0m\u001b[1;33m\u001b[0m\u001b[0m\n",
      "\u001b[1;32m~\\Anaconda3\\lib\\site-packages\\censusdata\\download.py\u001b[0m in \u001b[0;36m_download\u001b[1;34m(src, year, params, baseurl, endpt)\u001b[0m\n\u001b[0;32m     36\u001b[0m                 \u001b[0mdata\u001b[0m \u001b[1;33m=\u001b[0m \u001b[0mr\u001b[0m\u001b[1;33m.\u001b[0m\u001b[0mjson\u001b[0m\u001b[1;33m(\u001b[0m\u001b[1;33m)\u001b[0m\u001b[1;33m\u001b[0m\u001b[1;33m\u001b[0m\u001b[0m\n\u001b[0;32m     37\u001b[0m         \u001b[1;32mexcept\u001b[0m\u001b[1;33m:\u001b[0m\u001b[1;33m\u001b[0m\u001b[1;33m\u001b[0m\u001b[0m\n\u001b[1;32m---> 38\u001b[1;33m                 \u001b[1;32mraise\u001b[0m \u001b[0mValueError\u001b[0m\u001b[1;33m(\u001b[0m\u001b[1;34m'Unexpected response (URL: {0.url}): {0.text} '\u001b[0m\u001b[1;33m.\u001b[0m\u001b[0mformat\u001b[0m\u001b[1;33m(\u001b[0m\u001b[0mr\u001b[0m\u001b[1;33m)\u001b[0m\u001b[1;33m)\u001b[0m\u001b[1;33m\u001b[0m\u001b[1;33m\u001b[0m\u001b[0m\n\u001b[0m\u001b[0;32m     39\u001b[0m         \u001b[0mrdata\u001b[0m \u001b[1;33m=\u001b[0m \u001b[0mOrderedDict\u001b[0m\u001b[1;33m(\u001b[0m\u001b[1;33m)\u001b[0m\u001b[1;33m\u001b[0m\u001b[1;33m\u001b[0m\u001b[0m\n\u001b[0;32m     40\u001b[0m         \u001b[1;32mfor\u001b[0m \u001b[0mj\u001b[0m \u001b[1;32min\u001b[0m \u001b[0mrange\u001b[0m\u001b[1;33m(\u001b[0m\u001b[0mlen\u001b[0m\u001b[1;33m(\u001b[0m\u001b[0mdata\u001b[0m\u001b[1;33m[\u001b[0m\u001b[1;36m0\u001b[0m\u001b[1;33m]\u001b[0m\u001b[1;33m)\u001b[0m\u001b[1;33m)\u001b[0m\u001b[1;33m:\u001b[0m\u001b[1;33m\u001b[0m\u001b[1;33m\u001b[0m\u001b[0m\n",
      "\u001b[1;31mValueError\u001b[0m: Unexpected response (URL: https://api.census.gov/data/2019/acs/acs5?get=NAME,B23025_001E,B23025_002E,B23025_003E,B23025_004E,B23025_005E,B23025_006E,B23025_007E&for=block+group:*&in=state:*+county:*): error: wildcard not allowed for 'state' in geography heirarchy "
     ]
    }
   ],
   "source": [
    "data = censusdata.download('acs5', 2019,\n",
    "           censusdata.censusgeo([('state', '*'),\n",
    "                                 ('county', '*'),\n",
    "                                 ('block group', '*')]),\n",
    "          ['B23025_001E', 'B23025_002E', 'B23025_003E',\n",
    "           'B23025_004E', 'B23025_005E',\n",
    "           'B23025_006E', 'B23025_007E'])"
   ]
  },
  {
   "cell_type": "code",
   "execution_count": 12,
   "metadata": {
    "scrolled": true
   },
   "outputs": [
    {
     "name": "stdout",
     "output_type": "stream",
     "text": [
      "<bound method NDFrame.head of                                                     B23025_001E  B23025_002E  \\\n",
      "Block Group 2, Census Tract 71, Queens County, ...          676          538   \n",
      "Block Group 4, Census Tract 117, Queens County,...          787          566   \n",
      "Block Group 1, Census Tract 117, Queens County,...          777          641   \n",
      "Block Group 2, Census Tract 117, Queens County,...          750          519   \n",
      "Block Group 3, Census Tract 117, Queens County,...          954          684   \n",
      "...                                                         ...          ...   \n",
      "Block Group 1, Census Tract 426, Queens County,...          477           23   \n",
      "Block Group 3, Census Tract 929, Queens County,...          898          576   \n",
      "Block Group 1, Census Tract 28, Queens County, ...         1608         1047   \n",
      "Block Group 2, Census Tract 28, Queens County, ...         1191          762   \n",
      "Block Group 1, Census Tract 320, Queens County,...          874          661   \n",
      "\n",
      "                                                    B23025_003E  B23025_004E  \\\n",
      "Block Group 2, Census Tract 71, Queens County, ...          538          521   \n",
      "Block Group 4, Census Tract 117, Queens County,...          566          566   \n",
      "Block Group 1, Census Tract 117, Queens County,...          641          641   \n",
      "Block Group 2, Census Tract 117, Queens County,...          519          499   \n",
      "Block Group 3, Census Tract 117, Queens County,...          684          662   \n",
      "...                                                         ...          ...   \n",
      "Block Group 1, Census Tract 426, Queens County,...           23           23   \n",
      "Block Group 3, Census Tract 929, Queens County,...          576          561   \n",
      "Block Group 1, Census Tract 28, Queens County, ...         1047         1000   \n",
      "Block Group 2, Census Tract 28, Queens County, ...          762          739   \n",
      "Block Group 1, Census Tract 320, Queens County,...          661          594   \n",
      "\n",
      "                                                    B23025_005E  B23025_006E  \\\n",
      "Block Group 2, Census Tract 71, Queens County, ...           17            0   \n",
      "Block Group 4, Census Tract 117, Queens County,...            0            0   \n",
      "Block Group 1, Census Tract 117, Queens County,...            0            0   \n",
      "Block Group 2, Census Tract 117, Queens County,...           20            0   \n",
      "Block Group 3, Census Tract 117, Queens County,...           22            0   \n",
      "...                                                         ...          ...   \n",
      "Block Group 1, Census Tract 426, Queens County,...            0            0   \n",
      "Block Group 3, Census Tract 929, Queens County,...           15            0   \n",
      "Block Group 1, Census Tract 28, Queens County, ...           47            0   \n",
      "Block Group 2, Census Tract 28, Queens County, ...           23            0   \n",
      "Block Group 1, Census Tract 320, Queens County,...           67            0   \n",
      "\n",
      "                                                    B23025_007E  \n",
      "Block Group 2, Census Tract 71, Queens County, ...          138  \n",
      "Block Group 4, Census Tract 117, Queens County,...          221  \n",
      "Block Group 1, Census Tract 117, Queens County,...          136  \n",
      "Block Group 2, Census Tract 117, Queens County,...          231  \n",
      "Block Group 3, Census Tract 117, Queens County,...          270  \n",
      "...                                                         ...  \n",
      "Block Group 1, Census Tract 426, Queens County,...          454  \n",
      "Block Group 3, Census Tract 929, Queens County,...          322  \n",
      "Block Group 1, Census Tract 28, Queens County, ...          561  \n",
      "Block Group 2, Census Tract 28, Queens County, ...          429  \n",
      "Block Group 1, Census Tract 320, Queens County,...          213  \n",
      "\n",
      "[1746 rows x 7 columns]>\n"
     ]
    }
   ],
   "source": [
    "print(data.head)\n"
   ]
  },
  {
   "cell_type": "code",
   "execution_count": 13,
   "metadata": {},
   "outputs": [],
   "source": [
    "df = pd.DataFrame(data)"
   ]
  },
  {
   "cell_type": "code",
   "execution_count": 14,
   "metadata": {},
   "outputs": [
    {
     "data": {
      "text/plain": [
       "(1746, 7)"
      ]
     },
     "execution_count": 14,
     "metadata": {},
     "output_type": "execute_result"
    }
   ],
   "source": [
    "df.shape"
   ]
  },
  {
   "cell_type": "code",
   "execution_count": 15,
   "metadata": {
    "scrolled": true
   },
   "outputs": [
    {
     "data": {
      "text/html": [
       "<div>\n",
       "<style scoped>\n",
       "    .dataframe tbody tr th:only-of-type {\n",
       "        vertical-align: middle;\n",
       "    }\n",
       "\n",
       "    .dataframe tbody tr th {\n",
       "        vertical-align: top;\n",
       "    }\n",
       "\n",
       "    .dataframe thead th {\n",
       "        text-align: right;\n",
       "    }\n",
       "</style>\n",
       "<table border=\"1\" class=\"dataframe\">\n",
       "  <thead>\n",
       "    <tr style=\"text-align: right;\">\n",
       "      <th></th>\n",
       "      <th>B23025_001E</th>\n",
       "      <th>B23025_002E</th>\n",
       "      <th>B23025_003E</th>\n",
       "      <th>B23025_004E</th>\n",
       "      <th>B23025_005E</th>\n",
       "      <th>B23025_006E</th>\n",
       "      <th>B23025_007E</th>\n",
       "    </tr>\n",
       "  </thead>\n",
       "  <tbody>\n",
       "    <tr>\n",
       "      <th>Block Group 2, Census Tract 71, Queens County, New York: Summary level: 150, state:36&gt; county:081&gt; tract:007100&gt; block group:2</th>\n",
       "      <td>676</td>\n",
       "      <td>538</td>\n",
       "      <td>538</td>\n",
       "      <td>521</td>\n",
       "      <td>17</td>\n",
       "      <td>0</td>\n",
       "      <td>138</td>\n",
       "    </tr>\n",
       "    <tr>\n",
       "      <th>Block Group 4, Census Tract 117, Queens County, New York: Summary level: 150, state:36&gt; county:081&gt; tract:011700&gt; block group:4</th>\n",
       "      <td>787</td>\n",
       "      <td>566</td>\n",
       "      <td>566</td>\n",
       "      <td>566</td>\n",
       "      <td>0</td>\n",
       "      <td>0</td>\n",
       "      <td>221</td>\n",
       "    </tr>\n",
       "    <tr>\n",
       "      <th>Block Group 1, Census Tract 117, Queens County, New York: Summary level: 150, state:36&gt; county:081&gt; tract:011700&gt; block group:1</th>\n",
       "      <td>777</td>\n",
       "      <td>641</td>\n",
       "      <td>641</td>\n",
       "      <td>641</td>\n",
       "      <td>0</td>\n",
       "      <td>0</td>\n",
       "      <td>136</td>\n",
       "    </tr>\n",
       "    <tr>\n",
       "      <th>Block Group 2, Census Tract 117, Queens County, New York: Summary level: 150, state:36&gt; county:081&gt; tract:011700&gt; block group:2</th>\n",
       "      <td>750</td>\n",
       "      <td>519</td>\n",
       "      <td>519</td>\n",
       "      <td>499</td>\n",
       "      <td>20</td>\n",
       "      <td>0</td>\n",
       "      <td>231</td>\n",
       "    </tr>\n",
       "    <tr>\n",
       "      <th>Block Group 3, Census Tract 117, Queens County, New York: Summary level: 150, state:36&gt; county:081&gt; tract:011700&gt; block group:3</th>\n",
       "      <td>954</td>\n",
       "      <td>684</td>\n",
       "      <td>684</td>\n",
       "      <td>662</td>\n",
       "      <td>22</td>\n",
       "      <td>0</td>\n",
       "      <td>270</td>\n",
       "    </tr>\n",
       "  </tbody>\n",
       "</table>\n",
       "</div>"
      ],
      "text/plain": [
       "                                                    B23025_001E  B23025_002E  \\\n",
       "Block Group 2, Census Tract 71, Queens County, ...          676          538   \n",
       "Block Group 4, Census Tract 117, Queens County,...          787          566   \n",
       "Block Group 1, Census Tract 117, Queens County,...          777          641   \n",
       "Block Group 2, Census Tract 117, Queens County,...          750          519   \n",
       "Block Group 3, Census Tract 117, Queens County,...          954          684   \n",
       "\n",
       "                                                    B23025_003E  B23025_004E  \\\n",
       "Block Group 2, Census Tract 71, Queens County, ...          538          521   \n",
       "Block Group 4, Census Tract 117, Queens County,...          566          566   \n",
       "Block Group 1, Census Tract 117, Queens County,...          641          641   \n",
       "Block Group 2, Census Tract 117, Queens County,...          519          499   \n",
       "Block Group 3, Census Tract 117, Queens County,...          684          662   \n",
       "\n",
       "                                                    B23025_005E  B23025_006E  \\\n",
       "Block Group 2, Census Tract 71, Queens County, ...           17            0   \n",
       "Block Group 4, Census Tract 117, Queens County,...            0            0   \n",
       "Block Group 1, Census Tract 117, Queens County,...            0            0   \n",
       "Block Group 2, Census Tract 117, Queens County,...           20            0   \n",
       "Block Group 3, Census Tract 117, Queens County,...           22            0   \n",
       "\n",
       "                                                    B23025_007E  \n",
       "Block Group 2, Census Tract 71, Queens County, ...          138  \n",
       "Block Group 4, Census Tract 117, Queens County,...          221  \n",
       "Block Group 1, Census Tract 117, Queens County,...          136  \n",
       "Block Group 2, Census Tract 117, Queens County,...          231  \n",
       "Block Group 3, Census Tract 117, Queens County,...          270  "
      ]
     },
     "execution_count": 15,
     "metadata": {},
     "output_type": "execute_result"
    }
   ],
   "source": [
    "df.head(5)"
   ]
  },
  {
   "cell_type": "code",
   "execution_count": 16,
   "metadata": {},
   "outputs": [
    {
     "name": "stdout",
     "output_type": "stream",
     "text": [
      "<class 'pandas.core.frame.DataFrame'>\n",
      "Index: 1746 entries, Block Group 2, Census Tract 71, Queens County, New York: Summary level: 150, state:36> county:081> tract:007100> block group:2 to Block Group 1, Census Tract 320, Queens County, New York: Summary level: 150, state:36> county:081> tract:032000> block group:1\n",
      "Data columns (total 7 columns):\n",
      " #   Column       Non-Null Count  Dtype\n",
      "---  ------       --------------  -----\n",
      " 0   B23025_001E  1746 non-null   int64\n",
      " 1   B23025_002E  1746 non-null   int64\n",
      " 2   B23025_003E  1746 non-null   int64\n",
      " 3   B23025_004E  1746 non-null   int64\n",
      " 4   B23025_005E  1746 non-null   int64\n",
      " 5   B23025_006E  1746 non-null   int64\n",
      " 6   B23025_007E  1746 non-null   int64\n",
      "dtypes: int64(7)\n",
      "memory usage: 109.1+ KB\n"
     ]
    }
   ],
   "source": [
    "df. info()"
   ]
  }
 ],
 "metadata": {
  "kernelspec": {
   "display_name": "Python 3",
   "language": "python",
   "name": "python3"
  },
  "language_info": {
   "codemirror_mode": {
    "name": "ipython",
    "version": 3
   },
   "file_extension": ".py",
   "mimetype": "text/x-python",
   "name": "python",
   "nbconvert_exporter": "python",
   "pygments_lexer": "ipython3",
   "version": "3.7.6"
  }
 },
 "nbformat": 4,
 "nbformat_minor": 4
}
