{
 "cells": [
  {
   "cell_type": "markdown",
   "metadata": {},
   "source": [
    "# Census Data API: ACS 2019 Statewide Population "
   ]
  },
  {
   "cell_type": "code",
   "execution_count": 14,
   "metadata": {},
   "outputs": [],
   "source": [
    "from urllib import request\n",
    "import json\n",
    "\n",
    "census_api_key= '75b228a93b0b0592dd6d820dc0077020a546514a'\n",
    "url_str= 'https://api.census.gov/data/2019/acs/acs5?get=B01003_001E,NAME,GEO_ID&for=state:*&key='+census_api_key\n",
    "\n",
    "predicates= {}\n",
    "get_vars= [\"NAME\",\"GEO_ID\",\"B01003_001E\"]\n",
    "predicates[\"get\"]= \",\". join(get_vars)\n",
    "predicates[\"for\"]= \"state:*\"\n",
    "r= requests.get(url_str, params= predicates)"
   ]
  },
  {
   "cell_type": "code",
   "execution_count": 15,
   "metadata": {},
   "outputs": [
    {
     "name": "stdout",
     "output_type": "stream",
     "text": [
      "[[\"B01003_001E\",\"NAME\",\"GEO_ID\",\"state\"],\n",
      "[\"4876250\",\"Alabama\",\"0400000US01\",\"01\"],\n",
      "[\"737068\",\"Alaska\",\"0400000US02\",\"02\"],\n",
      "[\"7050299\",\"Arizona\",\"0400000US04\",\"04\"],\n",
      "[\"2999370\",\"Arkansas\",\"0400000US05\",\"05\"],\n",
      "[\"39283497\",\"California\",\"0400000US06\",\"06\"],\n",
      "[\"5610349\",\"Colorado\",\"0400000US08\",\"08\"],\n",
      "[\"957248\",\"Delaware\",\"0400000US10\",\"10\"],\n",
      "[\"692683\",\"District of Columbia\",\"0400000US11\",\"11\"],\n",
      "[\"3575074\",\"Connecticut\",\"0400000US09\",\"09\"],\n",
      "[\"20901636\",\"Florida\",\"0400000US12\",\"12\"],\n",
      "[\"10403847\",\"Georgia\",\"0400000US13\",\"13\"],\n",
      "[\"1717750\",\"Idaho\",\"0400000US16\",\"16\"],\n",
      "[\"1422094\",\"Hawaii\",\"0400000US15\",\"15\"],\n",
      "[\"12770631\",\"Illinois\",\"0400000US17\",\"17\"],\n",
      "[\"6665703\",\"Indiana\",\"0400000US18\",\"18\"],\n",
      "[\"3139508\",\"Iowa\",\"0400000US19\",\"19\"],\n",
      "[\"2910652\",\"Kansas\",\"0400000US20\",\"20\"],\n",
      "[\"4449052\",\"Kentucky\",\"0400000US21\",\"21\"],\n",
      "[\"4664362\",\"Louisiana\",\"0400000US22\",\"22\"],\n",
      "[\"1335492\",\"Maine\",\"0400000US23\",\"23\"],\n",
      "[\"6018848\",\"Maryland\",\"0400000US24\",\"24\"],\n",
      "[\"6850553\",\"Massachusetts\",\"0400000US25\",\"25\"],\n",
      "[\"9965265\",\"Michigan\",\"0400000US26\",\"26\"],\n",
      "[\"5563378\",\"Minnesota\",\"0400000US27\",\"27\"],\n",
      "[\"2984418\",\"Mississippi\",\"0400000US28\",\"28\"],\n",
      "[\"6104910\",\"Missouri\",\"0400000US29\",\"29\"],\n",
      "[\"1050649\",\"Montana\",\"0400000US30\",\"30\"],\n",
      "[\"1914571\",\"Nebraska\",\"0400000US31\",\"31\"],\n",
      "[\"2972382\",\"Nevada\",\"0400000US32\",\"32\"],\n",
      "[\"1348124\",\"New Hampshire\",\"0400000US33\",\"33\"],\n",
      "[\"8878503\",\"New Jersey\",\"0400000US34\",\"34\"],\n",
      "[\"2092454\",\"New Mexico\",\"0400000US35\",\"35\"],\n",
      "[\"19572319\",\"New York\",\"0400000US36\",\"36\"],\n",
      "[\"10264876\",\"North Carolina\",\"0400000US37\",\"37\"],\n",
      "[\"756717\",\"North Dakota\",\"0400000US38\",\"38\"],\n",
      "[\"11655397\",\"Ohio\",\"0400000US39\",\"39\"],\n",
      "[\"3932870\",\"Oklahoma\",\"0400000US40\",\"40\"],\n",
      "[\"4129803\",\"Oregon\",\"0400000US41\",\"41\"],\n",
      "[\"12791530\",\"Pennsylvania\",\"0400000US42\",\"42\"],\n",
      "[\"1057231\",\"Rhode Island\",\"0400000US44\",\"44\"],\n",
      "[\"5020806\",\"South Carolina\",\"0400000US45\",\"45\"],\n",
      "[\"870638\",\"South Dakota\",\"0400000US46\",\"46\"],\n",
      "[\"6709356\",\"Tennessee\",\"0400000US47\",\"47\"],\n",
      "[\"28260856\",\"Texas\",\"0400000US48\",\"48\"],\n",
      "[\"624313\",\"Vermont\",\"0400000US50\",\"50\"],\n",
      "[\"3096848\",\"Utah\",\"0400000US49\",\"49\"],\n",
      "[\"8454463\",\"Virginia\",\"0400000US51\",\"51\"],\n",
      "[\"7404107\",\"Washington\",\"0400000US53\",\"53\"],\n",
      "[\"1817305\",\"West Virginia\",\"0400000US54\",\"54\"],\n",
      "[\"5790716\",\"Wisconsin\",\"0400000US55\",\"55\"],\n",
      "[\"581024\",\"Wyoming\",\"0400000US56\",\"56\"],\n",
      "[\"3318447\",\"Puerto Rico\",\"0400000US72\",\"72\"]]\n"
     ]
    }
   ],
   "source": [
    "print(r.text)"
   ]
  },
  {
   "cell_type": "code",
   "execution_count": 16,
   "metadata": {},
   "outputs": [
    {
     "name": "stdout",
     "output_type": "stream",
     "text": [
      "['B01003_001E', 'NAME', 'GEO_ID', 'state']\n"
     ]
    }
   ],
   "source": [
    "print(r.json()[0])"
   ]
  },
  {
   "cell_type": "code",
   "execution_count": 17,
   "metadata": {},
   "outputs": [],
   "source": [
    "col_names= [\"total_pop\",\"Name\", \"GEO_ID\", \"state\"]"
   ]
  },
  {
   "cell_type": "code",
   "execution_count": 18,
   "metadata": {},
   "outputs": [
    {
     "data": {
      "text/html": [
       "<div>\n",
       "<style scoped>\n",
       "    .dataframe tbody tr th:only-of-type {\n",
       "        vertical-align: middle;\n",
       "    }\n",
       "\n",
       "    .dataframe tbody tr th {\n",
       "        vertical-align: top;\n",
       "    }\n",
       "\n",
       "    .dataframe thead th {\n",
       "        text-align: right;\n",
       "    }\n",
       "</style>\n",
       "<table border=\"1\" class=\"dataframe\">\n",
       "  <thead>\n",
       "    <tr style=\"text-align: right;\">\n",
       "      <th></th>\n",
       "      <th>total_pop</th>\n",
       "      <th>Name</th>\n",
       "      <th>GEO_ID</th>\n",
       "      <th>state</th>\n",
       "    </tr>\n",
       "  </thead>\n",
       "  <tbody>\n",
       "    <tr>\n",
       "      <th>0</th>\n",
       "      <td>4876250</td>\n",
       "      <td>Alabama</td>\n",
       "      <td>0400000US01</td>\n",
       "      <td>01</td>\n",
       "    </tr>\n",
       "    <tr>\n",
       "      <th>1</th>\n",
       "      <td>737068</td>\n",
       "      <td>Alaska</td>\n",
       "      <td>0400000US02</td>\n",
       "      <td>02</td>\n",
       "    </tr>\n",
       "    <tr>\n",
       "      <th>2</th>\n",
       "      <td>7050299</td>\n",
       "      <td>Arizona</td>\n",
       "      <td>0400000US04</td>\n",
       "      <td>04</td>\n",
       "    </tr>\n",
       "    <tr>\n",
       "      <th>3</th>\n",
       "      <td>2999370</td>\n",
       "      <td>Arkansas</td>\n",
       "      <td>0400000US05</td>\n",
       "      <td>05</td>\n",
       "    </tr>\n",
       "    <tr>\n",
       "      <th>4</th>\n",
       "      <td>39283497</td>\n",
       "      <td>California</td>\n",
       "      <td>0400000US06</td>\n",
       "      <td>06</td>\n",
       "    </tr>\n",
       "  </tbody>\n",
       "</table>\n",
       "</div>"
      ],
      "text/plain": [
       "   total_pop        Name       GEO_ID state\n",
       "0    4876250     Alabama  0400000US01    01\n",
       "1     737068      Alaska  0400000US02    02\n",
       "2    7050299     Arizona  0400000US04    04\n",
       "3    2999370    Arkansas  0400000US05    05\n",
       "4   39283497  California  0400000US06    06"
      ]
     },
     "execution_count": 18,
     "metadata": {},
     "output_type": "execute_result"
    }
   ],
   "source": [
    "import pandas as pd\n",
    "df= pd.DataFrame (columns=col_names, data=r.json()[1:])\n",
    "#fix data types\n",
    "df[\"total_pop\"]= df[\"total_pop\"].astype(int)\n",
    "df.head()"
   ]
  },
  {
   "cell_type": "code",
   "execution_count": 65,
   "metadata": {},
   "outputs": [],
   "source": [
    "df.to_csv('TEST.csv', encoding='utf-8', index=False)"
   ]
  },
  {
   "cell_type": "markdown",
   "metadata": {},
   "source": [
    "# Census Data TARGET: Mapping"
   ]
  },
  {
   "cell_type": "code",
   "execution_count": null,
   "metadata": {},
   "outputs": [],
   "source": []
  },
  {
   "cell_type": "code",
   "execution_count": null,
   "metadata": {},
   "outputs": [],
   "source": []
  }
 ],
 "metadata": {
  "kernelspec": {
   "display_name": "Python 3",
   "language": "python",
   "name": "python3"
  },
  "language_info": {
   "codemirror_mode": {
    "name": "ipython",
    "version": 3
   },
   "file_extension": ".py",
   "mimetype": "text/x-python",
   "name": "python",
   "nbconvert_exporter": "python",
   "pygments_lexer": "ipython3",
   "version": "3.7.6"
  }
 },
 "nbformat": 4,
 "nbformat_minor": 4
}
